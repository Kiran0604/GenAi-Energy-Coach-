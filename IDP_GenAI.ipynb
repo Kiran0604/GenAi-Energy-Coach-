{
    "nbformat":  4,
    "nbformat_minor":  0,
    "metadata":  {
                     "colab":  {
                                   "provenance":  [

                                                  ]
                               },
                     "kernelspec":  {
                                        "name":  "python3",
                                        "display_name":  "Python 3"
                                    },
                     "language_info":  {
                                           "name":  "python"
                                       }
                 },
    "cells":  [
                  {
                      "cell_type":  "code",
                      "execution_count":  null,
                      "metadata":  {
                                       "colab":  {
                                                     "base_uri":  "https://localhost:8080/"
                                                 },
                                       "id":  "Etc2ad0AVLUZ",
                                       "outputId":  "19eeb661-b4a5-4dd6-df72-d9d086d485d0"
                                   },
                      "outputs":  [
                                      {
                                          "output_type":  "stream",
                                          "name":  "stdout",
                                          "text":  [
                                                       "\u001b[?25l     \u001b[90m━━━━━━━━━━━━━━━━━━━━━━━━━━━━━━━━━━━━━━━━\u001b[0m \u001b[32m0.0/67.3 kB\u001b[0m \u001b[31m?\u001b[0m eta \u001b[36m-:--:--\u001b[0m\r\u001b[2K     \u001b[90m━━━━━━━━━━━━━━━━━━━━━━━━━━━━━━━━━━━━━━━━\u001b[0m \u001b[32m67.3/67.3 kB\u001b[0m \u001b[31m4.1 MB/s\u001b[0m eta \u001b[36m0:00:00\u001b[0m\n",
                                                       "\u001b[?25h  Installing build dependencies ... \u001b[?25l\u001b[?25hdone\n",
                                                       "  Getting requirements to build wheel ... \u001b[?25l\u001b[?25hdone\n",
                                                       "  Preparing metadata (pyproject.toml) ... \u001b[?25l\u001b[?25hdone\n",
                                                       "\u001b[2K     \u001b[90m━━━━━━━━━━━━━━━━━━━━━━━━━━━━━━━━━━━━━━\u001b[0m \u001b[32m981.5/981.5 kB\u001b[0m \u001b[31m33.4 MB/s\u001b[0m eta \u001b[36m0:00:00\u001b[0m\n",
                                                       "\u001b[?25h  Preparing metadata (setup.py) ... \u001b[?25l\u001b[?25hdone\n",
                                                       "\u001b[2K   \u001b[90m━━━━━━━━━━━━━━━━━━━━━━━━━━━━━━━━━━━━━━━━\u001b[0m \u001b[32m19.3/19.3 MB\u001b[0m \u001b[31m99.1 MB/s\u001b[0m eta \u001b[36m0:00:00\u001b[0m\n",
                                                       "\u001b[2K   \u001b[90m━━━━━━━━━━━━━━━━━━━━━━━━━━━━━━━━━━━━━━━━\u001b[0m \u001b[32m94.9/94.9 kB\u001b[0m \u001b[31m7.6 MB/s\u001b[0m eta \u001b[36m0:00:00\u001b[0m\n",
                                                       "\u001b[2K   \u001b[90m━━━━━━━━━━━━━━━━━━━━━━━━━━━━━━━━━━━━━━━━\u001b[0m \u001b[32m1.8/1.8 MB\u001b[0m \u001b[31m72.0 MB/s\u001b[0m eta \u001b[36m0:00:00\u001b[0m\n",
                                                       "\u001b[2K   \u001b[90m━━━━━━━━━━━━━━━━━━━━━━━━━━━━━━━━━━━━━━━━\u001b[0m \u001b[32m284.2/284.2 kB\u001b[0m \u001b[31m20.6 MB/s\u001b[0m eta \u001b[36m0:00:00\u001b[0m\n",
                                                       "\u001b[2K   \u001b[90m━━━━━━━━━━━━━━━━━━━━━━━━━━━━━━━━━━━━━━━━\u001b[0m \u001b[32m130.2/130.2 kB\u001b[0m \u001b[31m9.5 MB/s\u001b[0m eta \u001b[36m0:00:00\u001b[0m\n",
                                                       "\u001b[2K   \u001b[90m━━━━━━━━━━━━━━━━━━━━━━━━━━━━━━━━━━━━━━━━\u001b[0m \u001b[32m1.9/1.9 MB\u001b[0m \u001b[31m74.4 MB/s\u001b[0m eta \u001b[36m0:00:00\u001b[0m\n",
                                                       "\u001b[2K   \u001b[90m━━━━━━━━━━━━━━━━━━━━━━━━━━━━━━━━━━━━━━━━\u001b[0m \u001b[32m101.6/101.6 kB\u001b[0m \u001b[31m7.5 MB/s\u001b[0m eta \u001b[36m0:00:00\u001b[0m\n",
                                                       "\u001b[2K   \u001b[90m━━━━━━━━━━━━━━━━━━━━━━━━━━━━━━━━━━━━━━━━\u001b[0m \u001b[32m16.4/16.4 MB\u001b[0m \u001b[31m89.5 MB/s\u001b[0m eta \u001b[36m0:00:00\u001b[0m\n",
                                                       "\u001b[2K   \u001b[90m━━━━━━━━━━━━━━━━━━━━━━━━━━━━━━━━━━━━━━━━\u001b[0m \u001b[32m65.8/65.8 kB\u001b[0m \u001b[31m5.2 MB/s\u001b[0m eta \u001b[36m0:00:00\u001b[0m\n",
                                                       "\u001b[2K   \u001b[90m━━━━━━━━━━━━━━━━━━━━━━━━━━━━━━━━━━━━━━━━\u001b[0m \u001b[32m55.7/55.7 kB\u001b[0m \u001b[31m4.5 MB/s\u001b[0m eta \u001b[36m0:00:00\u001b[0m\n",
                                                       "\u001b[2K   \u001b[90m━━━━━━━━━━━━━━━━━━━━━━━━━━━━━━━━━━━━━━━━\u001b[0m \u001b[32m196.2/196.2 kB\u001b[0m \u001b[31m15.5 MB/s\u001b[0m eta \u001b[36m0:00:00\u001b[0m\n",
                                                       "\u001b[2K   \u001b[90m━━━━━━━━━━━━━━━━━━━━━━━━━━━━━━━━━━━━━━━━\u001b[0m \u001b[32m118.5/118.5 kB\u001b[0m \u001b[31m9.2 MB/s\u001b[0m eta \u001b[36m0:00:00\u001b[0m\n",
                                                       "\u001b[2K   \u001b[90m━━━━━━━━━━━━━━━━━━━━━━━━━━━━━━━━━━━━━━━━\u001b[0m \u001b[32m102.5/102.5 kB\u001b[0m \u001b[31m7.6 MB/s\u001b[0m eta \u001b[36m0:00:00\u001b[0m\n",
                                                       "\u001b[2K   \u001b[90m━━━━━━━━━━━━━━━━━━━━━━━━━━━━━━━━━━━━━━━━\u001b[0m \u001b[32m363.4/363.4 MB\u001b[0m \u001b[31m4.2 MB/s\u001b[0m eta \u001b[36m0:00:00\u001b[0m\n",
                                                       "\u001b[2K   \u001b[90m━━━━━━━━━━━━━━━━━━━━━━━━━━━━━━━━━━━━━━━━\u001b[0m \u001b[32m13.8/13.8 MB\u001b[0m \u001b[31m60.9 MB/s\u001b[0m eta \u001b[36m0:00:00\u001b[0m\n",
                                                       "\u001b[2K   \u001b[90m━━━━━━━━━━━━━━━━━━━━━━━━━━━━━━━━━━━━━━━━\u001b[0m \u001b[32m24.6/24.6 MB\u001b[0m \u001b[31m31.3 MB/s\u001b[0m eta \u001b[36m0:00:00\u001b[0m\n",
                                                       "\u001b[2K   \u001b[90m━━━━━━━━━━━━━━━━━━━━━━━━━━━━━━━━━━━━━━━━\u001b[0m \u001b[32m883.7/883.7 kB\u001b[0m \u001b[31m39.8 MB/s\u001b[0m eta \u001b[36m0:00:00\u001b[0m\n",
                                                       "\u001b[2K   \u001b[90m━━━━━━━━━━━━━━━━━━━━━━━━━━━━━━━━━━━━━━━━\u001b[0m \u001b[32m664.8/664.8 MB\u001b[0m \u001b[31m2.9 MB/s\u001b[0m eta \u001b[36m0:00:00\u001b[0m\n",
                                                       "\u001b[2K   \u001b[90m━━━━━━━━━━━━━━━━━━━━━━━━━━━━━━━━━━━━━━━━\u001b[0m \u001b[32m211.5/211.5 MB\u001b[0m \u001b[31m5.8 MB/s\u001b[0m eta \u001b[36m0:00:00\u001b[0m\n",
                                                       "\u001b[2K   \u001b[90m━━━━━━━━━━━━━━━━━━━━━━━━━━━━━━━━━━━━━━━━\u001b[0m \u001b[32m56.3/56.3 MB\u001b[0m \u001b[31m12.5 MB/s\u001b[0m eta \u001b[36m0:00:00\u001b[0m\n",
                                                       "\u001b[2K   \u001b[90m━━━━━━━━━━━━━━━━━━━━━━━━━━━━━━━━━━━━━━━━\u001b[0m \u001b[32m127.9/127.9 MB\u001b[0m \u001b[31m7.3 MB/s\u001b[0m eta \u001b[36m0:00:00\u001b[0m\n",
                                                       "\u001b[2K   \u001b[90m━━━━━━━━━━━━━━━━━━━━━━━━━━━━━━━━━━━━━━━━\u001b[0m \u001b[32m207.5/207.5 MB\u001b[0m \u001b[31m6.1 MB/s\u001b[0m eta \u001b[36m0:00:00\u001b[0m\n",
                                                       "\u001b[2K   \u001b[90m━━━━━━━━━━━━━━━━━━━━━━━━━━━━━━━━━━━━━━━━\u001b[0m \u001b[32m21.1/21.1 MB\u001b[0m \u001b[31m27.8 MB/s\u001b[0m eta \u001b[36m0:00:00\u001b[0m\n",
                                                       "\u001b[2K   \u001b[90m━━━━━━━━━━━━━━━━━━━━━━━━━━━━━━━━━━━━━━━━\u001b[0m \u001b[32m590.6/590.6 kB\u001b[0m \u001b[31m33.1 MB/s\u001b[0m eta \u001b[36m0:00:00\u001b[0m\n",
                                                       "\u001b[2K   \u001b[90m━━━━━━━━━━━━━━━━━━━━━━━━━━━━━━━━━━━━━━━━\u001b[0m \u001b[32m167.6/167.6 kB\u001b[0m \u001b[31m13.6 MB/s\u001b[0m eta \u001b[36m0:00:00\u001b[0m\n",
                                                       "\u001b[2K   \u001b[90m━━━━━━━━━━━━━━━━━━━━━━━━━━━━━━━━━━━━━━━━\u001b[0m \u001b[32m3.1/3.1 MB\u001b[0m \u001b[31m68.6 MB/s\u001b[0m eta \u001b[36m0:00:00\u001b[0m\n",
                                                       "\u001b[2K   \u001b[90m━━━━━━━━━━━━━━━━━━━━━━━━━━━━━━━━━━━━━━━━\u001b[0m \u001b[32m195.8/195.8 kB\u001b[0m \u001b[31m14.2 MB/s\u001b[0m eta \u001b[36m0:00:00\u001b[0m\n",
                                                       "\u001b[2K   \u001b[90m━━━━━━━━━━━━━━━━━━━━━━━━━━━━━━━━━━━━━━━━\u001b[0m \u001b[32m459.8/459.8 kB\u001b[0m \u001b[31m24.2 MB/s\u001b[0m eta \u001b[36m0:00:00\u001b[0m\n",
                                                       "\u001b[2K   \u001b[90m━━━━━━━━━━━━━━━━━━━━━━━━━━━━━━━━━━━━━━━━\u001b[0m \u001b[32m50.9/50.9 kB\u001b[0m \u001b[31m3.5 MB/s\u001b[0m eta \u001b[36m0:00:00\u001b[0m\n",
                                                       "\u001b[2K   \u001b[90m━━━━━━━━━━━━━━━━━━━━━━━━━━━━━━━━━━━━━━━━\u001b[0m \u001b[32m304.2/304.2 kB\u001b[0m \u001b[31m18.9 MB/s\u001b[0m eta \u001b[36m0:00:00\u001b[0m\n",
                                                       "\u001b[2K   \u001b[90m━━━━━━━━━━━━━━━━━━━━━━━━━━━━━━━━━━━━━━━━\u001b[0m \u001b[32m71.5/71.5 kB\u001b[0m \u001b[31m5.6 MB/s\u001b[0m eta \u001b[36m0:00:00\u001b[0m\n",
                                                       "\u001b[2K   \u001b[90m━━━━━━━━━━━━━━━━━━━━━━━━━━━━━━━━━━━━━━━━\u001b[0m \u001b[32m4.0/4.0 MB\u001b[0m \u001b[31m68.8 MB/s\u001b[0m eta \u001b[36m0:00:00\u001b[0m\n",
                                                       "\u001b[2K   \u001b[90m━━━━━━━━━━━━━━━━━━━━━━━━━━━━━━━━━━━━━━━━\u001b[0m \u001b[32m454.8/454.8 kB\u001b[0m \u001b[31m19.3 MB/s\u001b[0m eta \u001b[36m0:00:00\u001b[0m\n",
                                                       "\u001b[2K   \u001b[90m━━━━━━━━━━━━━━━━━━━━━━━━━━━━━━━━━━━━━━━━\u001b[0m \u001b[32m46.0/46.0 kB\u001b[0m \u001b[31m3.2 MB/s\u001b[0m eta \u001b[36m0:00:00\u001b[0m\n",
                                                       "\u001b[2K   \u001b[90m━━━━━━━━━━━━━━━━━━━━━━━━━━━━━━━━━━━━━━━━\u001b[0m \u001b[32m114.6/114.6 kB\u001b[0m \u001b[31m8.7 MB/s\u001b[0m eta \u001b[36m0:00:00\u001b[0m\n",
                                                       "\u001b[2K   \u001b[90m━━━━━━━━━━━━━━━━━━━━━━━━━━━━━━━━━━━━━━━━\u001b[0m \u001b[32m86.8/86.8 kB\u001b[0m \u001b[31m6.6 MB/s\u001b[0m eta \u001b[36m0:00:00\u001b[0m\n",
                                                       "\u001b[?25h  Building wheel for pypika (pyproject.toml) ... \u001b[?25l\u001b[?25hdone\n",
                                                       "  Building wheel for langdetect (setup.py) ... \u001b[?25l\u001b[?25hdone\n",
                                                       "Collecting langchain-community\n",
                                                       "  Downloading langchain_community-0.3.25-py3-none-any.whl.metadata (2.9 kB)\n",
                                                       "Collecting langchain-core\u003c1.0.0,\u003e=0.3.65 (from langchain-community)\n",
                                                       "  Downloading langchain_core-0.3.65-py3-none-any.whl.metadata (5.8 kB)\n",
                                                       "Requirement already satisfied: langchain\u003c1.0.0,\u003e=0.3.25 in /usr/local/lib/python3.11/dist-packages (from langchain-community) (0.3.25)\n",
                                                       "Requirement already satisfied: SQLAlchemy\u003c3,\u003e=1.4 in /usr/local/lib/python3.11/dist-packages (from langchain-community) (2.0.41)\n",
                                                       "Requirement already satisfied: requests\u003c3,\u003e=2 in /usr/local/lib/python3.11/dist-packages (from langchain-community) (2.32.3)\n",
                                                       "Requirement already satisfied: PyYAML\u003e=5.3 in /usr/local/lib/python3.11/dist-packages (from langchain-community) (6.0.2)\n",
                                                       "Requirement already satisfied: aiohttp\u003c4.0.0,\u003e=3.8.3 in /usr/local/lib/python3.11/dist-packages (from langchain-community) (3.11.15)\n",
                                                       "Requirement already satisfied: tenacity!=8.4.0,\u003c10,\u003e=8.1.0 in /usr/local/lib/python3.11/dist-packages (from langchain-community) (9.1.2)\n",
                                                       "Requirement already satisfied: dataclasses-json\u003c0.7,\u003e=0.5.7 in /usr/local/lib/python3.11/dist-packages (from langchain-community) (0.6.7)\n",
                                                       "Collecting pydantic-settings\u003c3.0.0,\u003e=2.4.0 (from langchain-community)\n",
                                                       "  Downloading pydantic_settings-2.9.1-py3-none-any.whl.metadata (3.8 kB)\n",
                                                       "Requirement already satisfied: langsmith\u003c0.4,\u003e=0.1.125 in /usr/local/lib/python3.11/dist-packages (from langchain-community) (0.3.44)\n",
                                                       "Collecting httpx-sse\u003c1.0.0,\u003e=0.4.0 (from langchain-community)\n",
                                                       "  Downloading httpx_sse-0.4.0-py3-none-any.whl.metadata (9.0 kB)\n",
                                                       "Requirement already satisfied: numpy\u003e=1.26.2 in /usr/local/lib/python3.11/dist-packages (from langchain-community) (2.0.2)\n",
                                                       "Requirement already satisfied: aiohappyeyeballs\u003e=2.3.0 in /usr/local/lib/python3.11/dist-packages (from aiohttp\u003c4.0.0,\u003e=3.8.3-\u003elangchain-community) (2.6.1)\n",
                                                       "Requirement already satisfied: aiosignal\u003e=1.1.2 in /usr/local/lib/python3.11/dist-packages (from aiohttp\u003c4.0.0,\u003e=3.8.3-\u003elangchain-community) (1.3.2)\n",
                                                       "Requirement already satisfied: attrs\u003e=17.3.0 in /usr/local/lib/python3.11/dist-packages (from aiohttp\u003c4.0.0,\u003e=3.8.3-\u003elangchain-community) (25.3.0)\n",
                                                       "Requirement already satisfied: frozenlist\u003e=1.1.1 in /usr/local/lib/python3.11/dist-packages (from aiohttp\u003c4.0.0,\u003e=3.8.3-\u003elangchain-community) (1.6.0)\n",
                                                       "Requirement already satisfied: multidict\u003c7.0,\u003e=4.5 in /usr/local/lib/python3.11/dist-packages (from aiohttp\u003c4.0.0,\u003e=3.8.3-\u003elangchain-community) (6.4.4)\n",
                                                       "Requirement already satisfied: propcache\u003e=0.2.0 in /usr/local/lib/python3.11/dist-packages (from aiohttp\u003c4.0.0,\u003e=3.8.3-\u003elangchain-community) (0.3.1)\n",
                                                       "Requirement already satisfied: yarl\u003c2.0,\u003e=1.17.0 in /usr/local/lib/python3.11/dist-packages (from aiohttp\u003c4.0.0,\u003e=3.8.3-\u003elangchain-community) (1.20.0)\n",
                                                       "Requirement already satisfied: marshmallow\u003c4.0.0,\u003e=3.18.0 in /usr/local/lib/python3.11/dist-packages (from dataclasses-json\u003c0.7,\u003e=0.5.7-\u003elangchain-community) (3.26.1)\n",
                                                       "Requirement already satisfied: typing-inspect\u003c1,\u003e=0.4.0 in /usr/local/lib/python3.11/dist-packages (from dataclasses-json\u003c0.7,\u003e=0.5.7-\u003elangchain-community) (0.9.0)\n",
                                                       "Requirement already satisfied: langchain-text-splitters\u003c1.0.0,\u003e=0.3.8 in /usr/local/lib/python3.11/dist-packages (from langchain\u003c1.0.0,\u003e=0.3.25-\u003elangchain-community) (0.3.8)\n",
                                                       "Requirement already satisfied: pydantic\u003c3.0.0,\u003e=2.7.4 in /usr/local/lib/python3.11/dist-packages (from langchain\u003c1.0.0,\u003e=0.3.25-\u003elangchain-community) (2.11.5)\n",
                                                       "Collecting langsmith\u003c0.4,\u003e=0.1.125 (from langchain-community)\n",
                                                       "  Downloading langsmith-0.3.45-py3-none-any.whl.metadata (15 kB)\n",
                                                       "Requirement already satisfied: jsonpatch\u003c2.0,\u003e=1.33 in /usr/local/lib/python3.11/dist-packages (from langchain-core\u003c1.0.0,\u003e=0.3.65-\u003elangchain-community) (1.33)\n",
                                                       "Requirement already satisfied: packaging\u003c25,\u003e=23.2 in /usr/local/lib/python3.11/dist-packages (from langchain-core\u003c1.0.0,\u003e=0.3.65-\u003elangchain-community) (24.2)\n",
                                                       "Requirement already satisfied: typing-extensions\u003e=4.7 in /usr/local/lib/python3.11/dist-packages (from langchain-core\u003c1.0.0,\u003e=0.3.65-\u003elangchain-community) (4.14.0)\n",
                                                       "Requirement already satisfied: httpx\u003c1,\u003e=0.23.0 in /usr/local/lib/python3.11/dist-packages (from langsmith\u003c0.4,\u003e=0.1.125-\u003elangchain-community) (0.28.1)\n",
                                                       "Requirement already satisfied: orjson\u003c4.0.0,\u003e=3.9.14 in /usr/local/lib/python3.11/dist-packages (from langsmith\u003c0.4,\u003e=0.1.125-\u003elangchain-community) (3.10.18)\n",
                                                       "Requirement already satisfied: requests-toolbelt\u003c2.0.0,\u003e=1.0.0 in /usr/local/lib/python3.11/dist-packages (from langsmith\u003c0.4,\u003e=0.1.125-\u003elangchain-community) (1.0.0)\n",
                                                       "Requirement already satisfied: zstandard\u003c0.24.0,\u003e=0.23.0 in /usr/local/lib/python3.11/dist-packages (from langsmith\u003c0.4,\u003e=0.1.125-\u003elangchain-community) (0.23.0)\n",
                                                       "Requirement already satisfied: python-dotenv\u003e=0.21.0 in /usr/local/lib/python3.11/dist-packages (from pydantic-settings\u003c3.0.0,\u003e=2.4.0-\u003elangchain-community) (1.1.0)\n",
                                                       "Requirement already satisfied: typing-inspection\u003e=0.4.0 in /usr/local/lib/python3.11/dist-packages (from pydantic-settings\u003c3.0.0,\u003e=2.4.0-\u003elangchain-community) (0.4.1)\n",
                                                       "Requirement already satisfied: charset-normalizer\u003c4,\u003e=2 in /usr/local/lib/python3.11/dist-packages (from requests\u003c3,\u003e=2-\u003elangchain-community) (3.4.2)\n",
                                                       "Requirement already satisfied: idna\u003c4,\u003e=2.5 in /usr/local/lib/python3.11/dist-packages (from requests\u003c3,\u003e=2-\u003elangchain-community) (3.10)\n",
                                                       "Requirement already satisfied: urllib3\u003c3,\u003e=1.21.1 in /usr/local/lib/python3.11/dist-packages (from requests\u003c3,\u003e=2-\u003elangchain-community) (2.4.0)\n",
                                                       "Requirement already satisfied: certifi\u003e=2017.4.17 in /usr/local/lib/python3.11/dist-packages (from requests\u003c3,\u003e=2-\u003elangchain-community) (2025.4.26)\n",
                                                       "Requirement already satisfied: greenlet\u003e=1 in /usr/local/lib/python3.11/dist-packages (from SQLAlchemy\u003c3,\u003e=1.4-\u003elangchain-community) (3.2.2)\n",
                                                       "Requirement already satisfied: anyio in /usr/local/lib/python3.11/dist-packages (from httpx\u003c1,\u003e=0.23.0-\u003elangsmith\u003c0.4,\u003e=0.1.125-\u003elangchain-community) (4.9.0)\n",
                                                       "Requirement already satisfied: httpcore==1.* in /usr/local/lib/python3.11/dist-packages (from httpx\u003c1,\u003e=0.23.0-\u003elangsmith\u003c0.4,\u003e=0.1.125-\u003elangchain-community) (1.0.9)\n",
                                                       "Requirement already satisfied: h11\u003e=0.16 in /usr/local/lib/python3.11/dist-packages (from httpcore==1.*-\u003ehttpx\u003c1,\u003e=0.23.0-\u003elangsmith\u003c0.4,\u003e=0.1.125-\u003elangchain-community) (0.16.0)\n",
                                                       "Requirement already satisfied: jsonpointer\u003e=1.9 in /usr/local/lib/python3.11/dist-packages (from jsonpatch\u003c2.0,\u003e=1.33-\u003elangchain-core\u003c1.0.0,\u003e=0.3.65-\u003elangchain-community) (3.0.0)\n",
                                                       "Requirement already satisfied: annotated-types\u003e=0.6.0 in /usr/local/lib/python3.11/dist-packages (from pydantic\u003c3.0.0,\u003e=2.7.4-\u003elangchain\u003c1.0.0,\u003e=0.3.25-\u003elangchain-community) (0.7.0)\n",
                                                       "Requirement already satisfied: pydantic-core==2.33.2 in /usr/local/lib/python3.11/dist-packages (from pydantic\u003c3.0.0,\u003e=2.7.4-\u003elangchain\u003c1.0.0,\u003e=0.3.25-\u003elangchain-community) (2.33.2)\n",
                                                       "Requirement already satisfied: mypy-extensions\u003e=0.3.0 in /usr/local/lib/python3.11/dist-packages (from typing-inspect\u003c1,\u003e=0.4.0-\u003edataclasses-json\u003c0.7,\u003e=0.5.7-\u003elangchain-community) (1.1.0)\n",
                                                       "Requirement already satisfied: sniffio\u003e=1.1 in /usr/local/lib/python3.11/dist-packages (from anyio-\u003ehttpx\u003c1,\u003e=0.23.0-\u003elangsmith\u003c0.4,\u003e=0.1.125-\u003elangchain-community) (1.3.1)\n",
                                                       "Downloading langchain_community-0.3.25-py3-none-any.whl (2.5 MB)\n",
                                                       "\u001b[2K   \u001b[90m━━━━━━━━━━━━━━━━━━━━━━━━━━━━━━━━━━━━━━━━\u001b[0m \u001b[32m2.5/2.5 MB\u001b[0m \u001b[31m62.9 MB/s\u001b[0m eta \u001b[36m0:00:00\u001b[0m\n",
                                                       "\u001b[?25hDownloading httpx_sse-0.4.0-py3-none-any.whl (7.8 kB)\n",
                                                       "Downloading langchain_core-0.3.65-py3-none-any.whl (438 kB)\n",
                                                       "\u001b[2K   \u001b[90m━━━━━━━━━━━━━━━━━━━━━━━━━━━━━━━━━━━━━━━━\u001b[0m \u001b[32m438.1/438.1 kB\u001b[0m \u001b[31m28.5 MB/s\u001b[0m eta \u001b[36m0:00:00\u001b[0m\n",
                                                       "\u001b[?25hDownloading langsmith-0.3.45-py3-none-any.whl (363 kB)\n",
                                                       "\u001b[2K   \u001b[90m━━━━━━━━━━━━━━━━━━━━━━━━━━━━━━━━━━━━━━━━\u001b[0m \u001b[32m363.0/363.0 kB\u001b[0m \u001b[31m25.5 MB/s\u001b[0m eta \u001b[36m0:00:00\u001b[0m\n",
                                                       "\u001b[?25hDownloading pydantic_settings-2.9.1-py3-none-any.whl (44 kB)\n",
                                                       "\u001b[2K   \u001b[90m━━━━━━━━━━━━━━━━━━━━━━━━━━━━━━━━━━━━━━━━\u001b[0m \u001b[32m44.4/44.4 kB\u001b[0m \u001b[31m3.2 MB/s\u001b[0m eta \u001b[36m0:00:00\u001b[0m\n",
                                                       "\u001b[?25hInstalling collected packages: httpx-sse, pydantic-settings, langsmith, langchain-core, langchain-community\n",
                                                       "  Attempting uninstall: langsmith\n",
                                                       "    Found existing installation: langsmith 0.3.44\n",
                                                       "    Uninstalling langsmith-0.3.44:\n",
                                                       "      Successfully uninstalled langsmith-0.3.44\n",
                                                       "  Attempting uninstall: langchain-core\n",
                                                       "    Found existing installation: langchain-core 0.3.63\n",
                                                       "    Uninstalling langchain-core-0.3.63:\n",
                                                       "      Successfully uninstalled langchain-core-0.3.63\n",
                                                       "Successfully installed httpx-sse-0.4.0 langchain-community-0.3.25 langchain-core-0.3.65 langsmith-0.3.45 pydantic-settings-2.9.1\n",
                                                       "Requirement already satisfied: langchain in /usr/local/lib/python3.11/dist-packages (0.3.25)\n",
                                                       "Requirement already satisfied: langchain-core\u003c1.0.0,\u003e=0.3.58 in /usr/local/lib/python3.11/dist-packages (from langchain) (0.3.65)\n",
                                                       "Requirement already satisfied: langchain-text-splitters\u003c1.0.0,\u003e=0.3.8 in /usr/local/lib/python3.11/dist-packages (from langchain) (0.3.8)\n",
                                                       "Requirement already satisfied: langsmith\u003c0.4,\u003e=0.1.17 in /usr/local/lib/python3.11/dist-packages (from langchain) (0.3.45)\n",
                                                       "Requirement already satisfied: pydantic\u003c3.0.0,\u003e=2.7.4 in /usr/local/lib/python3.11/dist-packages (from langchain) (2.11.5)\n",
                                                       "Requirement already satisfied: SQLAlchemy\u003c3,\u003e=1.4 in /usr/local/lib/python3.11/dist-packages (from langchain) (2.0.41)\n",
                                                       "Requirement already satisfied: requests\u003c3,\u003e=2 in /usr/local/lib/python3.11/dist-packages (from langchain) (2.32.3)\n",
                                                       "Requirement already satisfied: PyYAML\u003e=5.3 in /usr/local/lib/python3.11/dist-packages (from langchain) (6.0.2)\n",
                                                       "Requirement already satisfied: tenacity!=8.4.0,\u003c10.0.0,\u003e=8.1.0 in /usr/local/lib/python3.11/dist-packages (from langchain-core\u003c1.0.0,\u003e=0.3.58-\u003elangchain) (9.1.2)\n",
                                                       "Requirement already satisfied: jsonpatch\u003c2.0,\u003e=1.33 in /usr/local/lib/python3.11/dist-packages (from langchain-core\u003c1.0.0,\u003e=0.3.58-\u003elangchain) (1.33)\n",
                                                       "Requirement already satisfied: packaging\u003c25,\u003e=23.2 in /usr/local/lib/python3.11/dist-packages (from langchain-core\u003c1.0.0,\u003e=0.3.58-\u003elangchain) (24.2)\n",
                                                       "Requirement already satisfied: typing-extensions\u003e=4.7 in /usr/local/lib/python3.11/dist-packages (from langchain-core\u003c1.0.0,\u003e=0.3.58-\u003elangchain) (4.14.0)\n",
                                                       "Requirement already satisfied: httpx\u003c1,\u003e=0.23.0 in /usr/local/lib/python3.11/dist-packages (from langsmith\u003c0.4,\u003e=0.1.17-\u003elangchain) (0.28.1)\n",
                                                       "Requirement already satisfied: orjson\u003c4.0.0,\u003e=3.9.14 in /usr/local/lib/python3.11/dist-packages (from langsmith\u003c0.4,\u003e=0.1.17-\u003elangchain) (3.10.18)\n",
                                                       "Requirement already satisfied: requests-toolbelt\u003c2.0.0,\u003e=1.0.0 in /usr/local/lib/python3.11/dist-packages (from langsmith\u003c0.4,\u003e=0.1.17-\u003elangchain) (1.0.0)\n",
                                                       "Requirement already satisfied: zstandard\u003c0.24.0,\u003e=0.23.0 in /usr/local/lib/python3.11/dist-packages (from langsmith\u003c0.4,\u003e=0.1.17-\u003elangchain) (0.23.0)\n",
                                                       "Requirement already satisfied: annotated-types\u003e=0.6.0 in /usr/local/lib/python3.11/dist-packages (from pydantic\u003c3.0.0,\u003e=2.7.4-\u003elangchain) (0.7.0)\n",
                                                       "Requirement already satisfied: pydantic-core==2.33.2 in /usr/local/lib/python3.11/dist-packages (from pydantic\u003c3.0.0,\u003e=2.7.4-\u003elangchain) (2.33.2)\n",
                                                       "Requirement already satisfied: typing-inspection\u003e=0.4.0 in /usr/local/lib/python3.11/dist-packages (from pydantic\u003c3.0.0,\u003e=2.7.4-\u003elangchain) (0.4.1)\n",
                                                       "Requirement already satisfied: charset-normalizer\u003c4,\u003e=2 in /usr/local/lib/python3.11/dist-packages (from requests\u003c3,\u003e=2-\u003elangchain) (3.4.2)\n",
                                                       "Requirement already satisfied: idna\u003c4,\u003e=2.5 in /usr/local/lib/python3.11/dist-packages (from requests\u003c3,\u003e=2-\u003elangchain) (3.10)\n",
                                                       "Requirement already satisfied: urllib3\u003c3,\u003e=1.21.1 in /usr/local/lib/python3.11/dist-packages (from requests\u003c3,\u003e=2-\u003elangchain) (2.4.0)\n",
                                                       "Requirement already satisfied: certifi\u003e=2017.4.17 in /usr/local/lib/python3.11/dist-packages (from requests\u003c3,\u003e=2-\u003elangchain) (2025.4.26)\n",
                                                       "Requirement already satisfied: greenlet\u003e=1 in /usr/local/lib/python3.11/dist-packages (from SQLAlchemy\u003c3,\u003e=1.4-\u003elangchain) (3.2.2)\n",
                                                       "Requirement already satisfied: anyio in /usr/local/lib/python3.11/dist-packages (from httpx\u003c1,\u003e=0.23.0-\u003elangsmith\u003c0.4,\u003e=0.1.17-\u003elangchain) (4.9.0)\n",
                                                       "Requirement already satisfied: httpcore==1.* in /usr/local/lib/python3.11/dist-packages (from httpx\u003c1,\u003e=0.23.0-\u003elangsmith\u003c0.4,\u003e=0.1.17-\u003elangchain) (1.0.9)\n",
                                                       "Requirement already satisfied: h11\u003e=0.16 in /usr/local/lib/python3.11/dist-packages (from httpcore==1.*-\u003ehttpx\u003c1,\u003e=0.23.0-\u003elangsmith\u003c0.4,\u003e=0.1.17-\u003elangchain) (0.16.0)\n",
                                                       "Requirement already satisfied: jsonpointer\u003e=1.9 in /usr/local/lib/python3.11/dist-packages (from jsonpatch\u003c2.0,\u003e=1.33-\u003elangchain-core\u003c1.0.0,\u003e=0.3.58-\u003elangchain) (3.0.0)\n",
                                                       "Requirement already satisfied: sniffio\u003e=1.1 in /usr/local/lib/python3.11/dist-packages (from anyio-\u003ehttpx\u003c1,\u003e=0.23.0-\u003elangsmith\u003c0.4,\u003e=0.1.17-\u003elangchain) (1.3.1)\n",
                                                       "Requirement already satisfied: httpx in /usr/local/lib/python3.11/dist-packages (0.28.1)\n",
                                                       "Requirement already satisfied: anyio in /usr/local/lib/python3.11/dist-packages (from httpx) (4.9.0)\n",
                                                       "Requirement already satisfied: certifi in /usr/local/lib/python3.11/dist-packages (from httpx) (2025.4.26)\n",
                                                       "Requirement already satisfied: httpcore==1.* in /usr/local/lib/python3.11/dist-packages (from httpx) (1.0.9)\n",
                                                       "Requirement already satisfied: idna in /usr/local/lib/python3.11/dist-packages (from httpx) (3.10)\n",
                                                       "Requirement already satisfied: h11\u003e=0.16 in /usr/local/lib/python3.11/dist-packages (from httpcore==1.*-\u003ehttpx) (0.16.0)\n",
                                                       "Requirement already satisfied: sniffio\u003e=1.1 in /usr/local/lib/python3.11/dist-packages (from anyio-\u003ehttpx) (1.3.1)\n",
                                                       "Requirement already satisfied: typing_extensions\u003e=4.5 in /usr/local/lib/python3.11/dist-packages (from anyio-\u003ehttpx) (4.14.0)\n",
                                                       "Requirement already satisfied: groq in /usr/local/lib/python3.11/dist-packages (0.28.0)\n",
                                                       "Requirement already satisfied: anyio\u003c5,\u003e=3.5.0 in /usr/local/lib/python3.11/dist-packages (from groq) (4.9.0)\n",
                                                       "Requirement already satisfied: distro\u003c2,\u003e=1.7.0 in /usr/local/lib/python3.11/dist-packages (from groq) (1.9.0)\n",
                                                       "Requirement already satisfied: httpx\u003c1,\u003e=0.23.0 in /usr/local/lib/python3.11/dist-packages (from groq) (0.28.1)\n",
                                                       "Requirement already satisfied: pydantic\u003c3,\u003e=1.9.0 in /usr/local/lib/python3.11/dist-packages (from groq) (2.11.5)\n",
                                                       "Requirement already satisfied: sniffio in /usr/local/lib/python3.11/dist-packages (from groq) (1.3.1)\n",
                                                       "Requirement already satisfied: typing-extensions\u003c5,\u003e=4.10 in /usr/local/lib/python3.11/dist-packages (from groq) (4.14.0)\n",
                                                       "Requirement already satisfied: idna\u003e=2.8 in /usr/local/lib/python3.11/dist-packages (from anyio\u003c5,\u003e=3.5.0-\u003egroq) (3.10)\n",
                                                       "Requirement already satisfied: certifi in /usr/local/lib/python3.11/dist-packages (from httpx\u003c1,\u003e=0.23.0-\u003egroq) (2025.4.26)\n",
                                                       "Requirement already satisfied: httpcore==1.* in /usr/local/lib/python3.11/dist-packages (from httpx\u003c1,\u003e=0.23.0-\u003egroq) (1.0.9)\n",
                                                       "Requirement already satisfied: h11\u003e=0.16 in /usr/local/lib/python3.11/dist-packages (from httpcore==1.*-\u003ehttpx\u003c1,\u003e=0.23.0-\u003egroq) (0.16.0)\n",
                                                       "Requirement already satisfied: annotated-types\u003e=0.6.0 in /usr/local/lib/python3.11/dist-packages (from pydantic\u003c3,\u003e=1.9.0-\u003egroq) (0.7.0)\n",
                                                       "Requirement already satisfied: pydantic-core==2.33.2 in /usr/local/lib/python3.11/dist-packages (from pydantic\u003c3,\u003e=1.9.0-\u003egroq) (2.33.2)\n",
                                                       "Requirement already satisfied: typing-inspection\u003e=0.4.0 in /usr/local/lib/python3.11/dist-packages (from pydantic\u003c3,\u003e=1.9.0-\u003egroq) (0.4.1)\n"
                                                   ]
                                      }
                                  ],
                      "source":  [
                                     "!pip install -q langchain-groq langchain chromadb sentence-transformers unstructured\n",
                                     "!pip install -U langchain-community\n",
                                     "!pip install -U langchain\n",
                                     "!pip install -U httpx\n",
                                     "!pip install groq"
                                 ]
                  },
                  {
                      "cell_type":  "code",
                      "source":  [
                                     "from google.colab import drive\n",
                                     "drive.mount(\u0027/content/drive\u0027, force_remount=True)"
                                 ],
                      "metadata":  {
                                       "colab":  {
                                                     "base_uri":  "https://localhost:8080/"
                                                 },
                                       "id":  "P6DFtoTjbvpe",
                                       "outputId":  "57b19580-bfdf-44b1-97d7-21d590c7c3d5"
                                   },
                      "execution_count":  null,
                      "outputs":  [
                                      {
                                          "output_type":  "stream",
                                          "name":  "stdout",
                                          "text":  [
                                                       "Mounted at /content/drive\n"
                                                   ]
                                      }
                                  ]
                  },
                  {
                      "cell_type":  "code",
                      "source":  [
                                     "from langchain_groq import ChatGroq\n",
                                     "import os\n",
                                     "\n",
                                     "# Setup for Groq API key\n",
                                     "os.environ[\"GROQ_API_KEY\"] = \"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\"\n",
                                     "groq_api_key = os.getenv(\"GROQ_API_KEY\")\n",
                                     "\n",
                                     "# Initialize LLM with low temperature\n",
                                     "llm = ChatGroq(\n",
                                     "    api_key=groq_api_key,\n",
                                     "    model_name=\"llama3-8b-8192\",\n",
                                     "    temperature=0.2  # 🔽 Lower = more consistent, deterministic\n",
                                     ")\n"
                                 ],
                      "metadata":  {
                                       "id":  "eEXBrUmgb2ZN"
                                   },
                      "execution_count":  null,
                      "outputs":  [

                                  ]
                  },
                  {
                      "cell_type":  "code",
                      "source":  [
                                     "!pip install pymupdf\n"
                                 ],
                      "metadata":  {
                                       "colab":  {
                                                     "base_uri":  "https://localhost:8080/"
                                                 },
                                       "id":  "RvZqNN9sWQxH",
                                       "outputId":  "488e18e5-9cd8-43a3-ce2c-06041ff1adad"
                                   },
                      "execution_count":  null,
                      "outputs":  [
                                      {
                                          "output_type":  "stream",
                                          "name":  "stdout",
                                          "text":  [
                                                       "Collecting pymupdf\n",
                                                       "  Downloading pymupdf-1.26.1-cp39-abi3-manylinux_2_28_x86_64.whl.metadata (3.4 kB)\n",
                                                       "Downloading pymupdf-1.26.1-cp39-abi3-manylinux_2_28_x86_64.whl (24.1 MB)\n",
                                                       "\u001b[2K   \u001b[90m━━━━━━━━━━━━━━━━━━━━━━━━━━━━━━━━━━━━━━━━\u001b[0m \u001b[32m24.1/24.1 MB\u001b[0m \u001b[31m60.8 MB/s\u001b[0m eta \u001b[36m0:00:00\u001b[0m\n",
                                                       "\u001b[?25hInstalling collected packages: pymupdf\n",
                                                       "Successfully installed pymupdf-1.26.1\n"
                                                   ]
                                      }
                                  ]
                  },
                  {
                      "cell_type":  "code",
                      "source":  [
                                     "from langchain.vectorstores import Chroma\n",
                                     "from langchain.embeddings import HuggingFaceEmbeddings\n",
                                     "from langchain.document_loaders import PyMuPDFLoader\n",
                                     "from langchain.text_splitter import RecursiveCharacterTextSplitter\n",
                                     "import os\n",
                                     "\n",
                                     "# --- Configuration ---\n",
                                     "pdf_file_path = \"/content/drive/MyDrive/RS775-4538_Datasheet.pdf\"\n",
                                     "persist_directory = \"/content/drive/MyDrive/RS775-4538_Datasheet_DB_RS775\"\n",
                                     "embedding_model = \"sentence-transformers/all-MiniLM-L6-v2\"\n",
                                     "\n",
                                     "# --- Embedding Setup ---\n",
                                     "embedding = HuggingFaceEmbeddings(model_name=embedding_model)\n",
                                     "\n",
                                     "# --- Load PDF ---\n",
                                     "loader = PyMuPDFLoader(pdf_file_path)\n",
                                     "documents = loader.load()\n",
                                     "\n",
                                     "# --- Split Text into Chunks ---\n",
                                     "splitter = RecursiveCharacterTextSplitter(chunk_size=1000, chunk_overlap=200)\n",
                                     "chunks = splitter.split_documents(documents)\n",
                                     "\n",
                                     "print(f\"✅ Chunks created from RS775 datasheet: {len(chunks)}\")\n",
                                     "\n",
                                     "# --- Store in Chroma Vector DB ---\n",
                                     "vectorstore = Chroma.from_documents(\n",
                                     "    documents=chunks,\n",
                                     "    embedding=embedding,\n",
                                     "    persist_directory=persist_directory\n",
                                     ")\n",
                                     "vectorstore.persist()\n",
                                     "\n",
                                     "print(\"✅ RS775 Datasheet Vector DB created and saved.\")\n"
                                 ],
                      "metadata":  {
                                       "colab":  {
                                                     "base_uri":  "https://localhost:8080/",
                                                     "height":  597,
                                                     "referenced_widgets":  [
                                                                                "8f83d78ac22542e5b009c4c2c80a247d",
                                                                                "3655cd0eac5c46e49f9cd045842d8fcc",
                                                                                "2d75d11bfc8242f5b59f525cba69b748",
                                                                                "36e4b66e089c4c5d8b3e0ba5661b1f76",
                                                                                "c16d0b359733452d93f3d3138928fe5b",
                                                                                "f3bcca54d4ef4ce696b09c785a12b0ba",
                                                                                "9a574c0d8aff4b168a4d2f4f595ac8da",
                                                                                "eb9768786870488397802660af0f03bc",
                                                                                "27a2cfa9c2684b95abde413d61d5ada5",
                                                                                "2c9d03745e5044068c0c73ade81fe607",
                                                                                "2c3bb80f96b749cca633eb2f67ab466f",
                                                                                "d6a9842b69ae4f559d3997a3f9529c16",
                                                                                "b6e4e45db17d43fb93b2696aabd9dfc2",
                                                                                "e822fc65f2864aeb87fe832d0b5ac651",
                                                                                "fa98d866a169477ab278ba8a6717aa21",
                                                                                "ddce952c7d8a4c888987650ed45197f0",
                                                                                "efbd59396a6a415a8cddb5825fbd1348",
                                                                                "a1a66c6125c540f994691b36f6029737",
                                                                                "109d6afa18f842b0bbc57fd26d9830df",
                                                                                "d500e44ffdbe44b3a9b10049bb00a190",
                                                                                "b4e0e48678b8471bb236d4088b293eda",
                                                                                "a41d7a0c8e38445e8c55b35b681872b8",
                                                                                "f755493eb6644618be5d20941b4afa5b",
                                                                                "d4092c6b337541e0818391f8c4860f72",
                                                                                "962d711989414e5daaf9f62536c02562",
                                                                                "43b2634a10584f4585ea8b28ba1aa5a0",
                                                                                "5a2f2264d1504075aafca20da76df793",
                                                                                "ceffb40b958f43f8870196ab196bdb73",
                                                                                "c99d1669784a45cf9c4a5e37049fcfdb",
                                                                                "400da02633ab450db01df5243e48e498",
                                                                                "33c828af24704b88869e36f1993e1c2a",
                                                                                "93541fc15ee54800be6cd7a1e87a6918",
                                                                                "58d9132359b541b689fef1ea89a7e268",
                                                                                "be3c39622bed4892be09f00bb2579380",
                                                                                "d6123a38db6741d1aeab6332c2fb9f7c",
                                                                                "091a901818b148b8af2ca549be685cf9",
                                                                                "40f11a4f94c34e05a7d0cd3b0594cf6e",
                                                                                "156142586cd84dc7aa2125b949831827",
                                                                                "6a40c1dd2cca4bc9a5d8719f82ab0944",
                                                                                "ed9165708d6248df8c33b3dac0d745cc",
                                                                                "6e2047ab87da47b2a372a088f963f363",
                                                                                "d7767a3955bd43488d4d51fc4331b0e3",
                                                                                "62b97370eb644ff1a98360214cdee8a3",
                                                                                "2298d8ab6bce489c84489708051be38c",
                                                                                "8f1437f8acfc422ba9138f63f6e2ca4a",
                                                                                "968d392bce6c4d7b858233d1a0be131e",
                                                                                "0ebcdcfd6a7b4121a8b1a5a1dba810b9",
                                                                                "ded0f09998104727bcd4051dab4feb11",
                                                                                "3b47c7c2d6b24921ae1c11f78f092d4f",
                                                                                "20712dd59cb6442b82dd46a2c3a4b2e3",
                                                                                "007028b189c14c60a01360174e91ea83",
                                                                                "e4f1173bea9e44df913d7acafb2f5fb3",
                                                                                "2e9a3e390a43499cb30928ebb20b4fde",
                                                                                "437bb33534364ec6bc23283ac39cf8ca",
                                                                                "92dc627491c64a5da278f4a23b4e5d62",
                                                                                "333a54a6734d49e382bc3575a4c16837",
                                                                                "3a6d4a87753c4675aca401945b0bd0bd",
                                                                                "b6daf64b05fa410cad236f41d1e5aade",
                                                                                "ab1d8f67e24a4888bfd8b5c7581f511a",
                                                                                "31b61387fa5e4aafbd48b955cb3829df",
                                                                                "e8b48aaac5ed4188a9982c160cb2df90",
                                                                                "43453d7e4cf3490ab05a20f169372636",
                                                                                "91986cdb41f74c8da628d53d96905dee",
                                                                                "ce1312cb93b24d7396bd67c25a1975b9",
                                                                                "beb9353cdf10450c8cfffb2389e1f03a",
                                                                                "d288aa05301f48c394a916cc56a6a352",
                                                                                "ab87c25c8f724a9b8823ba46c49e51fd",
                                                                                "beca8a3f0d6e4ee697d7eebc81acd3f0",
                                                                                "dc968c70af8841b4be46de2e31cf91f5",
                                                                                "fe348ac1dff84fa38295659f55a22eb7",
                                                                                "2fc3b39b19d141359ef6c50807548027",
                                                                                "fea1350334864fbda238a51177473b0c",
                                                                                "13c824638b9342ae9a0ba425fc5d49d8",
                                                                                "250450211d0d44e69a764879279c8742",
                                                                                "5c2dc57d024040919587c9e5b3eb08ef",
                                                                                "4141872b5bcc43788ea522f069fdea3b",
                                                                                "bfbaa2e90b1b4cc48fceadbd095f5a2c",
                                                                                "273aef679a72473dabfc22fc9fe93523",
                                                                                "a0e24b9a9595411f933792d32db440f5",
                                                                                "7592b7966e734d9e9115799ccaf64282",
                                                                                "31904f1089d243b686b8567603884456",
                                                                                "56808018189c48b29daf231db19aeec2",
                                                                                "1b9d82dcb44f46c398d6ddcc85a90bf1",
                                                                                "45e422c324a94724a616fc0e2a9d9181",
                                                                                "411b98850ea04a069f9caf4806c9eef2",
                                                                                "3443f861e2e644d2a74bbda2f33a6288",
                                                                                "a2b36a300cc140ea9d3128d13dd820b0",
                                                                                "f0a5415802ba465faa785af6ccdd3218",
                                                                                "e46c5e05ff7f4934bea49a44fcd98103",
                                                                                "54305a49f5c84c45a700fcb8794f0461",
                                                                                "4bbcdb7a084445a88899d5663da443cf",
                                                                                "4ead54929e7e479196a9f4a8a2672cd4",
                                                                                "2a40a0ba4a7d4f94a7dafca30e31d243",
                                                                                "4b4a001ad4d340a5925f785e516cfb86",
                                                                                "e37b5a89419d437c8706318137c773b6",
                                                                                "3ca7f0c3b9484f6fba76fa77097c8149",
                                                                                "3feada6aaca749ffb023d50c003c214e",
                                                                                "563a1c1417524f9587f2a503f76a0dc7",
                                                                                "90b4ffd17e46465898454fde6fbf177d",
                                                                                "e5b072529b1846119db0f241d6a6852d",
                                                                                "b87e76db8fea42c1a0a9b1eee33fd98b",
                                                                                "adceda3b39634ea1bf42c82aa262d4f6",
                                                                                "adbe49fd2c0b4760926b9726848db64b",
                                                                                "8a8b52dceac543849e3ce77dc403b710",
                                                                                "b24ff4c2d092426a906c777061fe36a0",
                                                                                "ff9bed9ac9d94be7ab1876244a6d28d7",
                                                                                "bfd8cf67488346029af2e09b9ae1a34a",
                                                                                "12f932c14f234924a7e388070de0146e",
                                                                                "de82fb934f234963adbafb1d2d4440c1",
                                                                                "04ed1f28d70f4aa3ba464df978498bab",
                                                                                "e08f26a2dfe848e7a2dab9c4522b5901",
                                                                                "be69b18aaa1b4e86b9c2dfc37ff45691",
                                                                                "112fb61c65f94362a4d6fb684516c5f4",
                                                                                "bb191d38310b49c28eeed85220658874",
                                                                                "219c299e2cf34d1181039ffda90a3abb",
                                                                                "08205fff20214c0abbf93591580f93ee",
                                                                                "cbcec5d956c04511a3148f364a1d7e78",
                                                                                "bfe82cae05c6456b817418dff341bb16",
                                                                                "6c041e9c6d3a40b2b7dbbc7ab7db3d41",
                                                                                "4186d574bf3d4b6d8b7b0273fc8f6650",
                                                                                "43dd971acfc04f9cadc34c7fde34b610"
                                                                            ]
                                                 },
                                       "id":  "r6CB60aSVz8_",
                                       "outputId":  "8fd6d28f-a664-4cf0-8a62-291dcf65345d"
                                   },
                      "execution_count":  null,
                      "outputs":  [
                                      {
                                          "output_type":  "stream",
                                          "name":  "stderr",
                                          "text":  [
                                                       "\u003cipython-input-6-3111249558\u003e:13: LangChainDeprecationWarning: The class `HuggingFaceEmbeddings` was deprecated in LangChain 0.2.2 and will be removed in 1.0. An updated version of the class exists in the :class:`~langchain-huggingface package and should be used instead. To use it run `pip install -U :class:`~langchain-huggingface` and import as `from :class:`~langchain_huggingface import HuggingFaceEmbeddings``.\n",
                                                       "  embedding = HuggingFaceEmbeddings(model_name=embedding_model)\n",
                                                       "/usr/local/lib/python3.11/dist-packages/huggingface_hub/utils/_auth.py:94: UserWarning: \n",
                                                       "The secret `HF_TOKEN` does not exist in your Colab secrets.\n",
                                                       "To authenticate with the Hugging Face Hub, create a token in your settings tab (https://huggingface.co/settings/tokens), set it as secret in your Google Colab and restart your session.\n",
                                                       "You will be able to reuse this secret in all of your notebooks.\n",
                                                       "Please note that authentication is recommended but still optional to access public models or datasets.\n",
                                                       "  warnings.warn(\n"
                                                   ]
                                      },
                                      {
                                          "output_type":  "display_data",
                                          "data":  {
                                                       "text/plain":  [
                                                                          "modules.json:   0%|          | 0.00/349 [00:00\u003c?, ?B/s]"
                                                                      ],
                                                       "application/vnd.jupyter.widget-view+json":  {
                                                                                                        "version_major":  2,
                                                                                                        "version_minor":  0,
                                                                                                        "model_id":  "8f83d78ac22542e5b009c4c2c80a247d"
                                                                                                    }
                                                   },
                                          "metadata":  {

                                                       }
                                      },
                                      {
                                          "output_type":  "display_data",
                                          "data":  {
                                                       "text/plain":  [
                                                                          "config_sentence_transformers.json:   0%|          | 0.00/116 [00:00\u003c?, ?B/s]"
                                                                      ],
                                                       "application/vnd.jupyter.widget-view+json":  {
                                                                                                        "version_major":  2,
                                                                                                        "version_minor":  0,
                                                                                                        "model_id":  "d6a9842b69ae4f559d3997a3f9529c16"
                                                                                                    }
                                                   },
                                          "metadata":  {

                                                       }
                                      },
                                      {
                                          "output_type":  "display_data",
                                          "data":  {
                                                       "text/plain":  [
                                                                          "README.md:   0%|          | 0.00/10.5k [00:00\u003c?, ?B/s]"
                                                                      ],
                                                       "application/vnd.jupyter.widget-view+json":  {
                                                                                                        "version_major":  2,
                                                                                                        "version_minor":  0,
                                                                                                        "model_id":  "f755493eb6644618be5d20941b4afa5b"
                                                                                                    }
                                                   },
                                          "metadata":  {

                                                       }
                                      },
                                      {
                                          "output_type":  "display_data",
                                          "data":  {
                                                       "text/plain":  [
                                                                          "sentence_bert_config.json:   0%|          | 0.00/53.0 [00:00\u003c?, ?B/s]"
                                                                      ],
                                                       "application/vnd.jupyter.widget-view+json":  {
                                                                                                        "version_major":  2,
                                                                                                        "version_minor":  0,
                                                                                                        "model_id":  "be3c39622bed4892be09f00bb2579380"
                                                                                                    }
                                                   },
                                          "metadata":  {

                                                       }
                                      },
                                      {
                                          "output_type":  "display_data",
                                          "data":  {
                                                       "text/plain":  [
                                                                          "config.json:   0%|          | 0.00/612 [00:00\u003c?, ?B/s]"
                                                                      ],
                                                       "application/vnd.jupyter.widget-view+json":  {
                                                                                                        "version_major":  2,
                                                                                                        "version_minor":  0,
                                                                                                        "model_id":  "8f1437f8acfc422ba9138f63f6e2ca4a"
                                                                                                    }
                                                   },
                                          "metadata":  {

                                                       }
                                      },
                                      {
                                          "output_type":  "display_data",
                                          "data":  {
                                                       "text/plain":  [
                                                                          "model.safetensors:   0%|          | 0.00/90.9M [00:00\u003c?, ?B/s]"
                                                                      ],
                                                       "application/vnd.jupyter.widget-view+json":  {
                                                                                                        "version_major":  2,
                                                                                                        "version_minor":  0,
                                                                                                        "model_id":  "333a54a6734d49e382bc3575a4c16837"
                                                                                                    }
                                                   },
                                          "metadata":  {

                                                       }
                                      },
                                      {
                                          "output_type":  "display_data",
                                          "data":  {
                                                       "text/plain":  [
                                                                          "tokenizer_config.json:   0%|          | 0.00/350 [00:00\u003c?, ?B/s]"
                                                                      ],
                                                       "application/vnd.jupyter.widget-view+json":  {
                                                                                                        "version_major":  2,
                                                                                                        "version_minor":  0,
                                                                                                        "model_id":  "ab87c25c8f724a9b8823ba46c49e51fd"
                                                                                                    }
                                                   },
                                          "metadata":  {

                                                       }
                                      },
                                      {
                                          "output_type":  "display_data",
                                          "data":  {
                                                       "text/plain":  [
                                                                          "vocab.txt:   0%|          | 0.00/232k [00:00\u003c?, ?B/s]"
                                                                      ],
                                                       "application/vnd.jupyter.widget-view+json":  {
                                                                                                        "version_major":  2,
                                                                                                        "version_minor":  0,
                                                                                                        "model_id":  "273aef679a72473dabfc22fc9fe93523"
                                                                                                    }
                                                   },
                                          "metadata":  {

                                                       }
                                      },
                                      {
                                          "output_type":  "display_data",
                                          "data":  {
                                                       "text/plain":  [
                                                                          "tokenizer.json:   0%|          | 0.00/466k [00:00\u003c?, ?B/s]"
                                                                      ],
                                                       "application/vnd.jupyter.widget-view+json":  {
                                                                                                        "version_major":  2,
                                                                                                        "version_minor":  0,
                                                                                                        "model_id":  "e46c5e05ff7f4934bea49a44fcd98103"
                                                                                                    }
                                                   },
                                          "metadata":  {

                                                       }
                                      },
                                      {
                                          "output_type":  "display_data",
                                          "data":  {
                                                       "text/plain":  [
                                                                          "special_tokens_map.json:   0%|          | 0.00/112 [00:00\u003c?, ?B/s]"
                                                                      ],
                                                       "application/vnd.jupyter.widget-view+json":  {
                                                                                                        "version_major":  2,
                                                                                                        "version_minor":  0,
                                                                                                        "model_id":  "e5b072529b1846119db0f241d6a6852d"
                                                                                                    }
                                                   },
                                          "metadata":  {

                                                       }
                                      },
                                      {
                                          "output_type":  "display_data",
                                          "data":  {
                                                       "text/plain":  [
                                                                          "config.json:   0%|          | 0.00/190 [00:00\u003c?, ?B/s]"
                                                                      ],
                                                       "application/vnd.jupyter.widget-view+json":  {
                                                                                                        "version_major":  2,
                                                                                                        "version_minor":  0,
                                                                                                        "model_id":  "e08f26a2dfe848e7a2dab9c4522b5901"
                                                                                                    }
                                                   },
                                          "metadata":  {

                                                       }
                                      },
                                      {
                                          "output_type":  "stream",
                                          "name":  "stdout",
                                          "text":  [
                                                       "✅ Chunks created from RS775 datasheet: 2\n",
                                                       "✅ RS775 Datasheet Vector DB created and saved.\n"
                                                   ]
                                      },
                                      {
                                          "output_type":  "stream",
                                          "name":  "stderr",
                                          "text":  [
                                                       "\u003cipython-input-6-3111249558\u003e:31: LangChainDeprecationWarning: Since Chroma 0.4.x the manual persistence method is no longer supported as docs are automatically persisted.\n",
                                                       "  vectorstore.persist()\n"
                                                   ]
                                      }
                                  ]
                  },
                  {
                      "cell_type":  "code",
                      "source":  [
                                     "import shutil\n",
                                     "from google.colab import files\n",
                                     "\n",
                                     "# Path to your Chroma DB directory\n",
                                     "persist_directory = \"/content/drive/MyDrive/RS775-4538_Datasheet_DB_RS775\"\n",
                                     "\n",
                                     "# Output zip file name\n",
                                     "zip_filename = \"RS775_VectorDB.zip\"\n",
                                     "\n",
                                     "# Create zip file\n",
                                     "shutil.make_archive(\"RS775_VectorDB\", \u0027zip\u0027, persist_directory)\n",
                                     "\n",
                                     "# Download zip file in Colab\n",
                                     "files.download(zip_filename)\n"
                                 ],
                      "metadata":  {
                                       "colab":  {
                                                     "base_uri":  "https://localhost:8080/",
                                                     "height":  17
                                                 },
                                       "id":  "VKKs4WYjk8dH",
                                       "outputId":  "cf295b0c-f666-4fa0-a1f9-3dcc01c7f874"
                                   },
                      "execution_count":  null,
                      "outputs":  [
                                      {
                                          "output_type":  "display_data",
                                          "data":  {
                                                       "text/plain":  [
                                                                          "\u003cIPython.core.display.Javascript object\u003e"
                                                                      ],
                                                       "application/javascript":  [
                                                                                      "\n",
                                                                                      "    async function download(id, filename, size) {\n",
                                                                                      "      if (!google.colab.kernel.accessAllowed) {\n",
                                                                                      "        return;\n",
                                                                                      "      }\n",
                                                                                      "      const div = document.createElement(\u0027div\u0027);\n",
                                                                                      "      const label = document.createElement(\u0027label\u0027);\n",
                                                                                      "      label.textContent = `Downloading \"${filename}\": `;\n",
                                                                                      "      div.appendChild(label);\n",
                                                                                      "      const progress = document.createElement(\u0027progress\u0027);\n",
                                                                                      "      progress.max = size;\n",
                                                                                      "      div.appendChild(progress);\n",
                                                                                      "      document.body.appendChild(div);\n",
                                                                                      "\n",
                                                                                      "      const buffers = [];\n",
                                                                                      "      let downloaded = 0;\n",
                                                                                      "\n",
                                                                                      "      const channel = await google.colab.kernel.comms.open(id);\n",
                                                                                      "      // Send a message to notify the kernel that we\u0027re ready.\n",
                                                                                      "      channel.send({})\n",
                                                                                      "\n",
                                                                                      "      for await (const message of channel.messages) {\n",
                                                                                      "        // Send a message to notify the kernel that we\u0027re ready.\n",
                                                                                      "        channel.send({})\n",
                                                                                      "        if (message.buffers) {\n",
                                                                                      "          for (const buffer of message.buffers) {\n",
                                                                                      "            buffers.push(buffer);\n",
                                                                                      "            downloaded += buffer.byteLength;\n",
                                                                                      "            progress.value = downloaded;\n",
                                                                                      "          }\n",
                                                                                      "        }\n",
                                                                                      "      }\n",
                                                                                      "      const blob = new Blob(buffers, {type: \u0027application/binary\u0027});\n",
                                                                                      "      const a = document.createElement(\u0027a\u0027);\n",
                                                                                      "      a.href = window.URL.createObjectURL(blob);\n",
                                                                                      "      a.download = filename;\n",
                                                                                      "      div.appendChild(a);\n",
                                                                                      "      a.click();\n",
                                                                                      "      div.remove();\n",
                                                                                      "    }\n",
                                                                                      "  "
                                                                                  ]
                                                   },
                                          "metadata":  {

                                                       }
                                      },
                                      {
                                          "output_type":  "display_data",
                                          "data":  {
                                                       "text/plain":  [
                                                                          "\u003cIPython.core.display.Javascript object\u003e"
                                                                      ],
                                                       "application/javascript":  [
                                                                                      "download(\"download_d1c80758-709d-4380-8e10-735da2a48641\", \"RS775_VectorDB.zip\", 40495)"
                                                                                  ]
                                                   },
                                          "metadata":  {

                                                       }
                                      }
                                  ]
                  },
                  {
                      "cell_type":  "code",
                      "source":  [
                                     "from langchain.vectorstores import Chroma\n",
                                     "from langchain.embeddings import HuggingFaceEmbeddings\n",
                                     "from google.colab import files\n",
                                     "import zipfile\n",
                                     "import os\n",
                                     "\n",
                                     "# 1️⃣ Upload the zipped vector DB (uploaded manually by user)\n",
                                     "uploaded = files.upload()\n",
                                     "\n",
                                     "# 2️⃣ Extract the uploaded zip file\n",
                                     "zip_name = list(uploaded.keys())[0]\n",
                                     "unzip_path = \"/content/uploaded_vectordb\"\n",
                                     "\n",
                                     "with zipfile.ZipFile(zip_name, \u0027r\u0027) as zip_ref:\n",
                                     "    zip_ref.extractall(unzip_path)\n",
                                     "\n",
                                     "# 3️⃣ Load the embedding model\n",
                                     "embedding = HuggingFaceEmbeddings(model_name=\"sentence-transformers/all-MiniLM-L6-v2\")\n",
                                     "\n",
                                     "# 4️⃣ Load vectorstore from unzipped path\n",
                                     "vectorstore = Chroma(\n",
                                     "    persist_directory=unzip_path,\n",
                                     "    embedding_function=embedding\n",
                                     ")\n",
                                     "\n",
                                     "# 5️⃣ Create retriever\n",
                                     "retriever = vectorstore.as_retriever()\n",
                                     "\n",
                                     "print(\"✅ Vector DB loaded successfully from uploaded zip.\")\n"
                                 ],
                      "metadata":  {
                                       "colab":  {
                                                     "base_uri":  "https://localhost:8080/",
                                                     "height":  145
                                                 },
                                       "id":  "kjTW3eNqU7yB",
                                       "outputId":  "3aef3944-aea3-444c-be24-1f5e97dde0d1"
                                   },
                      "execution_count":  null,
                      "outputs":  [
                                      {
                                          "output_type":  "display_data",
                                          "data":  {
                                                       "text/plain":  [
                                                                          "\u003cIPython.core.display.HTML object\u003e"
                                                                      ],
                                                       "text/html":  [
                                                                         "\n",
                                                                         "     \u003cinput type=\"file\" id=\"files-7f40d2af-6a33-4793-8c7f-d08993833b3c\" name=\"files[]\" multiple disabled\n",
                                                                         "        style=\"border:none\" /\u003e\n",
                                                                         "     \u003coutput id=\"result-7f40d2af-6a33-4793-8c7f-d08993833b3c\"\u003e\n",
                                                                         "      Upload widget is only available when the cell has been executed in the\n",
                                                                         "      current browser session. Please rerun this cell to enable.\n",
                                                                         "      \u003c/output\u003e\n",
                                                                         "      \u003cscript\u003e// Copyright 2017 Google LLC\n",
                                                                         "//\n",
                                                                         "// Licensed under the Apache License, Version 2.0 (the \"License\");\n",
                                                                         "// you may not use this file except in compliance with the License.\n",
                                                                         "// You may obtain a copy of the License at\n",
                                                                         "//\n",
                                                                         "//      http://www.apache.org/licenses/LICENSE-2.0\n",
                                                                         "//\n",
                                                                         "// Unless required by applicable law or agreed to in writing, software\n",
                                                                         "// distributed under the License is distributed on an \"AS IS\" BASIS,\n",
                                                                         "// WITHOUT WARRANTIES OR CONDITIONS OF ANY KIND, either express or implied.\n",
                                                                         "// See the License for the specific language governing permissions and\n",
                                                                         "// limitations under the License.\n",
                                                                         "\n",
                                                                         "/**\n",
                                                                         " * @fileoverview Helpers for google.colab Python module.\n",
                                                                         " */\n",
                                                                         "(function(scope) {\n",
                                                                         "function span(text, styleAttributes = {}) {\n",
                                                                         "  const element = document.createElement(\u0027span\u0027);\n",
                                                                         "  element.textContent = text;\n",
                                                                         "  for (const key of Object.keys(styleAttributes)) {\n",
                                                                         "    element.style[key] = styleAttributes[key];\n",
                                                                         "  }\n",
                                                                         "  return element;\n",
                                                                         "}\n",
                                                                         "\n",
                                                                         "// Max number of bytes which will be uploaded at a time.\n",
                                                                         "const MAX_PAYLOAD_SIZE = 100 * 1024;\n",
                                                                         "\n",
                                                                         "function _uploadFiles(inputId, outputId) {\n",
                                                                         "  const steps = uploadFilesStep(inputId, outputId);\n",
                                                                         "  const outputElement = document.getElementById(outputId);\n",
                                                                         "  // Cache steps on the outputElement to make it available for the next call\n",
                                                                         "  // to uploadFilesContinue from Python.\n",
                                                                         "  outputElement.steps = steps;\n",
                                                                         "\n",
                                                                         "  return _uploadFilesContinue(outputId);\n",
                                                                         "}\n",
                                                                         "\n",
                                                                         "// This is roughly an async generator (not supported in the browser yet),\n",
                                                                         "// where there are multiple asynchronous steps and the Python side is going\n",
                                                                         "// to poll for completion of each step.\n",
                                                                         "// This uses a Promise to block the python side on completion of each step,\n",
                                                                         "// then passes the result of the previous step as the input to the next step.\n",
                                                                         "function _uploadFilesContinue(outputId) {\n",
                                                                         "  const outputElement = document.getElementById(outputId);\n",
                                                                         "  const steps = outputElement.steps;\n",
                                                                         "\n",
                                                                         "  const next = steps.next(outputElement.lastPromiseValue);\n",
                                                                         "  return Promise.resolve(next.value.promise).then((value) =\u003e {\n",
                                                                         "    // Cache the last promise value to make it available to the next\n",
                                                                         "    // step of the generator.\n",
                                                                         "    outputElement.lastPromiseValue = value;\n",
                                                                         "    return next.value.response;\n",
                                                                         "  });\n",
                                                                         "}\n",
                                                                         "\n",
                                                                         "/**\n",
                                                                         " * Generator function which is called between each async step of the upload\n",
                                                                         " * process.\n",
                                                                         " * @param {string} inputId Element ID of the input file picker element.\n",
                                                                         " * @param {string} outputId Element ID of the output display.\n",
                                                                         " * @return {!Iterable\u003c!Object\u003e} Iterable of next steps.\n",
                                                                         " */\n",
                                                                         "function* uploadFilesStep(inputId, outputId) {\n",
                                                                         "  const inputElement = document.getElementById(inputId);\n",
                                                                         "  inputElement.disabled = false;\n",
                                                                         "\n",
                                                                         "  const outputElement = document.getElementById(outputId);\n",
                                                                         "  outputElement.innerHTML = \u0027\u0027;\n",
                                                                         "\n",
                                                                         "  const pickedPromise = new Promise((resolve) =\u003e {\n",
                                                                         "    inputElement.addEventListener(\u0027change\u0027, (e) =\u003e {\n",
                                                                         "      resolve(e.target.files);\n",
                                                                         "    });\n",
                                                                         "  });\n",
                                                                         "\n",
                                                                         "  const cancel = document.createElement(\u0027button\u0027);\n",
                                                                         "  inputElement.parentElement.appendChild(cancel);\n",
                                                                         "  cancel.textContent = \u0027Cancel upload\u0027;\n",
                                                                         "  const cancelPromise = new Promise((resolve) =\u003e {\n",
                                                                         "    cancel.onclick = () =\u003e {\n",
                                                                         "      resolve(null);\n",
                                                                         "    };\n",
                                                                         "  });\n",
                                                                         "\n",
                                                                         "  // Wait for the user to pick the files.\n",
                                                                         "  const files = yield {\n",
                                                                         "    promise: Promise.race([pickedPromise, cancelPromise]),\n",
                                                                         "    response: {\n",
                                                                         "      action: \u0027starting\u0027,\n",
                                                                         "    }\n",
                                                                         "  };\n",
                                                                         "\n",
                                                                         "  cancel.remove();\n",
                                                                         "\n",
                                                                         "  // Disable the input element since further picks are not allowed.\n",
                                                                         "  inputElement.disabled = true;\n",
                                                                         "\n",
                                                                         "  if (!files) {\n",
                                                                         "    return {\n",
                                                                         "      response: {\n",
                                                                         "        action: \u0027complete\u0027,\n",
                                                                         "      }\n",
                                                                         "    };\n",
                                                                         "  }\n",
                                                                         "\n",
                                                                         "  for (const file of files) {\n",
                                                                         "    const li = document.createElement(\u0027li\u0027);\n",
                                                                         "    li.append(span(file.name, {fontWeight: \u0027bold\u0027}));\n",
                                                                         "    li.append(span(\n",
                                                                         "        `(${file.type || \u0027n/a\u0027}) - ${file.size} bytes, ` +\n",
                                                                         "        `last modified: ${\n",
                                                                         "            file.lastModifiedDate ? file.lastModifiedDate.toLocaleDateString() :\n",
                                                                         "                                    \u0027n/a\u0027} - `));\n",
                                                                         "    const percent = span(\u00270% done\u0027);\n",
                                                                         "    li.appendChild(percent);\n",
                                                                         "\n",
                                                                         "    outputElement.appendChild(li);\n",
                                                                         "\n",
                                                                         "    const fileDataPromise = new Promise((resolve) =\u003e {\n",
                                                                         "      const reader = new FileReader();\n",
                                                                         "      reader.onload = (e) =\u003e {\n",
                                                                         "        resolve(e.target.result);\n",
                                                                         "      };\n",
                                                                         "      reader.readAsArrayBuffer(file);\n",
                                                                         "    });\n",
                                                                         "    // Wait for the data to be ready.\n",
                                                                         "    let fileData = yield {\n",
                                                                         "      promise: fileDataPromise,\n",
                                                                         "      response: {\n",
                                                                         "        action: \u0027continue\u0027,\n",
                                                                         "      }\n",
                                                                         "    };\n",
                                                                         "\n",
                                                                         "    // Use a chunked sending to avoid message size limits. See b/62115660.\n",
                                                                         "    let position = 0;\n",
                                                                         "    do {\n",
                                                                         "      const length = Math.min(fileData.byteLength - position, MAX_PAYLOAD_SIZE);\n",
                                                                         "      const chunk = new Uint8Array(fileData, position, length);\n",
                                                                         "      position += length;\n",
                                                                         "\n",
                                                                         "      const base64 = btoa(String.fromCharCode.apply(null, chunk));\n",
                                                                         "      yield {\n",
                                                                         "        response: {\n",
                                                                         "          action: \u0027append\u0027,\n",
                                                                         "          file: file.name,\n",
                                                                         "          data: base64,\n",
                                                                         "        },\n",
                                                                         "      };\n",
                                                                         "\n",
                                                                         "      let percentDone = fileData.byteLength === 0 ?\n",
                                                                         "          100 :\n",
                                                                         "          Math.round((position / fileData.byteLength) * 100);\n",
                                                                         "      percent.textContent = `${percentDone}% done`;\n",
                                                                         "\n",
                                                                         "    } while (position \u003c fileData.byteLength);\n",
                                                                         "  }\n",
                                                                         "\n",
                                                                         "  // All done.\n",
                                                                         "  yield {\n",
                                                                         "    response: {\n",
                                                                         "      action: \u0027complete\u0027,\n",
                                                                         "    }\n",
                                                                         "  };\n",
                                                                         "}\n",
                                                                         "\n",
                                                                         "scope.google = scope.google || {};\n",
                                                                         "scope.google.colab = scope.google.colab || {};\n",
                                                                         "scope.google.colab._files = {\n",
                                                                         "  _uploadFiles,\n",
                                                                         "  _uploadFilesContinue,\n",
                                                                         "};\n",
                                                                         "})(self);\n",
                                                                         "\u003c/script\u003e "
                                                                     ]
                                                   },
                                          "metadata":  {

                                                       }
                                      },
                                      {
                                          "output_type":  "stream",
                                          "name":  "stdout",
                                          "text":  [
                                                       "Saving RS775_VectorDB.zip to RS775_VectorDB (1).zip\n",
                                                       "✅ Vector DB loaded successfully from uploaded zip.\n"
                                                   ]
                                      },
                                      {
                                          "output_type":  "stream",
                                          "name":  "stderr",
                                          "text":  [
                                                       "\u003cipython-input-8-352212808\u003e:21: LangChainDeprecationWarning: The class `Chroma` was deprecated in LangChain 0.2.9 and will be removed in 1.0. An updated version of the class exists in the :class:`~langchain-chroma package and should be used instead. To use it run `pip install -U :class:`~langchain-chroma` and import as `from :class:`~langchain_chroma import Chroma``.\n",
                                                       "  vectorstore = Chroma(\n"
                                                   ]
                                      }
                                  ]
                  },
                  {
                      "cell_type":  "code",
                      "source":  [
                                     "from langchain.prompts import PromptTemplate\n",
                                     "from langchain.chains import LLMChain\n",
                                     "\n",
                                     "# ✅ Updated prompt template for datasheet-based answers\n",
                                     "prompt_template = PromptTemplate(\n",
                                     "    input_variables=[\"question\", \"context\"],\n",
                                     "    template=(\n",
                                     "        \"You are an AI assistant that helps engineers understand technical information from motor datasheets. \"\n",
                                     "        \"Use the provided context to answer the question accurately. Stick to the content of the RS775-4538 motor datasheet. \"\n",
                                     "        \"If the answer is not available in the context, say you don\u0027t know.\\n\\n\"\n",
                                     "        \"Context:\\n{context}\\n\\n\"\n",
                                     "        \"Question: {question}\\n\\n\"\n",
                                     "        \"Answer:\"\n",
                                     "    )\n",
                                     ")\n",
                                     "\n",
                                     "# ✅ Initialize the LLM chain using the updated prompt\n",
                                     "qa_chain = LLMChain(\n",
                                     "    llm=llm,  # e.g., OpenAI model or HuggingFace LLM\n",
                                     "    prompt=prompt_template\n",
                                     ")\n",
                                     "\n",
                                     "# ✅ Function to answer datasheet questions using RAG\n",
                                     "def answer_motor_datasheet_question_with_rag(question):\n",
                                     "    # Retrieve the relevant chunks from Chroma\n",
                                     "    retrieved_docs = retriever.get_relevant_documents(question)\n",
                                     "\n",
                                     "    # Combine content from retrieved documents\n",
                                     "    context = \" \".join([doc.page_content for doc in retrieved_docs])\n",
                                     "\n",
                                     "    # Run the LLM chain with both context and question\n",
                                     "    response = qa_chain.run(question=question, context=context)\n",
                                     "\n",
                                     "    return response\n"
                                 ],
                      "metadata":  {
                                       "colab":  {
                                                     "base_uri":  "https://localhost:8080/"
                                                 },
                                       "id":  "dwPdU8aWXXZz",
                                       "outputId":  "c5506b6c-1c72-4e50-9bd3-62c11c84d8bf"
                                   },
                      "execution_count":  null,
                      "outputs":  [
                                      {
                                          "output_type":  "stream",
                                          "name":  "stderr",
                                          "text":  [
                                                       "\u003cipython-input-9-670262687\u003e:18: LangChainDeprecationWarning: The class `LLMChain` was deprecated in LangChain 0.1.17 and will be removed in 1.0. Use :meth:`~RunnableSequence, e.g., `prompt | llm`` instead.\n",
                                                       "  qa_chain = LLMChain(\n"
                                                   ]
                                      }
                                  ]
                  },
                  {
                      "cell_type":  "code",
                      "source":  [
                                     "response = answer_motor_datasheet_question_with_rag(\"What is the stall torque of the RS775 motor?\")\n",
                                     "print(response)\n"
                                 ],
                      "metadata":  {
                                       "colab":  {
                                                     "base_uri":  "https://localhost:8080/"
                                                 },
                                       "id":  "KgqzBuFUXuAj",
                                       "outputId":  "3580edfb-4e8c-4035-cc43-54834642b1b0"
                                   },
                      "execution_count":  null,
                      "outputs":  [
                                      {
                                          "output_type":  "stream",
                                          "name":  "stdout",
                                          "text":  [
                                                       "According to the datasheet, the stall torque of the RS775-4538 DC Motor is approximately 2500 mN.m.\n"
                                                   ]
                                      }
                                  ]
                  },
                  {
                      "cell_type":  "code",
                      "source":  [
                                     "response = answer_motor_datasheet_question_with_rag(\"What is the maximum continuous current the motor can handle safely?\")\n",
                                     "print(response)"
                                 ],
                      "metadata":  {
                                       "colab":  {
                                                     "base_uri":  "https://localhost:8080/"
                                                 },
                                       "id":  "BhJ3NPXZYAFW",
                                       "outputId":  "cca96f8c-c021-49d9-a77f-7d472f404b2c"
                                   },
                      "execution_count":  null,
                      "outputs":  [
                                      {
                                          "output_type":  "stream",
                                          "name":  "stdout",
                                          "text":  [
                                                       "According to the datasheet, the Rated Current is 10 A, which is the maximum continuous current the motor can handle safely.\n"
                                                   ]
                                      }
                                  ]
                  },
                  {
                      "cell_type":  "code",
                      "source":  [
                                     "response = answer_motor_datasheet_question_with_rag(\"What are the recommended operating practices?\")\n",
                                     "print(response)"
                                 ],
                      "metadata":  {
                                       "colab":  {
                                                     "base_uri":  "https://localhost:8080/"
                                                 },
                                       "id":  "qCP5Hr_0YVjm",
                                       "outputId":  "9057ec84-490f-4dc9-d248-002ea9e03cc8"
                                   },
                      "execution_count":  null,
                      "outputs":  [
                                      {
                                          "output_type":  "stream",
                                          "name":  "stdout",
                                          "text":  [
                                                       "According to the RS775-4538 DC Motor Datasheet, the recommended operating practices are:\n",
                                                       "\n",
                                                       "* Use current limiting driver circuits.\n",
                                                       "* Ensure proper mounting and ventilation.\n",
                                                       "* Avoid long stalling and overcurrent.\n",
                                                       "* Use flyback diodes for switching.\n",
                                                       "* Periodically inspect for brush wear.\n",
                                                       "\n",
                                                       "These recommendations are listed in section 5 of the datasheet, titled \"Recommended Operating Practices\".\n"
                                                   ]
                                      }
                                  ]
                  },
                  {
                      "cell_type":  "code",
                      "source":  [
                                     "from langchain.prompts import PromptTemplate\n",
                                     "from langchain.chains import LLMChain\n",
                                     "\n",
                                     "# 🧠 Prompt Template for Generating Motor Issue Recommendations\n",
                                     "prompt_template = PromptTemplate(\n",
                                     "    input_variables=[\"issue\", \"context\"],\n",
                                     "    template=(\n",
                                     "        \"You are an AI assistant with expertise in electrical engineering and motor systems. \"\n",
                                     "        \"Based on the following datasheet context for the RS775-4538 DC motor and the issue described, \"\n",
                                     "        \"provide a clear, practical recommendation for resolving or mitigating the issue. \"\n",
                                     "        \"Base your reasoning on the datasheet when possible. If not covered, use standard best practices. \"\n",
                                     "        \"Do NOT invent technical specs that are not in the datasheet.\\n\\n\"\n",
                                     "        \"Datasheet Context:\\n{context}\\n\\n\"\n",
                                     "        \"Observed Issue:\\n{issue}\\n\\n\"\n",
                                     "        \"Recommended Action:\"\n",
                                     "    )\n",
                                     ")\n"
                                 ],
                      "metadata":  {
                                       "id":  "RsChitKRpJuS"
                                   },
                      "execution_count":  null,
                      "outputs":  [

                                  ]
                  },
                  {
                      "cell_type":  "code",
                      "source":  [
                                     "# ✅ Initialize the LLM chain with the updated recommendation prompt\n",
                                     "recommendation_chain = LLMChain(\n",
                                     "    llm=llm,  # HuggingFaceHub, ChatOpenAI, etc.\n",
                                     "    prompt=prompt_template\n",
                                     ")\n"
                                 ],
                      "metadata":  {
                                       "id":  "rNOVYA5lmxML"
                                   },
                      "execution_count":  null,
                      "outputs":  [

                                  ]
                  },
                  {
                      "cell_type":  "code",
                      "source":  [
                                     "# Function that generates a recommendation based on an alert/issue\n",
                                     "def get_motor_issue_recommendation(issue_description):\n",
                                     "    # Retrieve relevant chunks from vector DB using the issue\n",
                                     "    retrieved_docs = retriever.get_relevant_documents(issue_description)\n",
                                     "\n",
                                     "    # Merge retrieved datasheet content into a single context string\n",
                                     "    context = \" \".join([doc.page_content for doc in retrieved_docs])\n",
                                     "\n",
                                     "    # Generate a recommendation\n",
                                     "    recommendation = recommendation_chain.run(issue=issue_description, context=context)\n",
                                     "\n",
                                     "    return recommendation\n"
                                 ],
                      "metadata":  {
                                       "id":  "BEMuAjhcp0-s"
                                   },
                      "execution_count":  null,
                      "outputs":  [

                                  ]
                  },
                  {
                      "cell_type":  "code",
                      "source":  [
                                     "issue = \"Overheating: temperature 72.85°C exceeds 70.0°C\"\n",
                                     "print(get_motor_issue_recommendation(issue))\n"
                                 ],
                      "metadata":  {
                                       "colab":  {
                                                     "base_uri":  "https://localhost:8080/"
                                                 },
                                       "id":  "S9KD7iQRp2MX",
                                       "outputId":  "e6bc071e-6256-4882-f60f-2883cbd9e85b"
                                   },
                      "execution_count":  null,
                      "outputs":  [
                                      {
                                          "output_type":  "stream",
                                          "name":  "stdout",
                                          "text":  [
                                                       "Based on the datasheet and the observed issue of overheating, I recommend the following actions to mitigate or resolve the issue:\n",
                                                       "\n",
                                                       "1. **Verify proper mounting and ventilation**: Ensure that the motor is properly mounted and ventilated to allow for adequate airflow and heat dissipation. Check that the motor is not obstructed by any surrounding components or materials that could restrict airflow. (Refer to 5. Recommended Operating Practices)\n",
                                                       "2. **Check for excessive current draw**: Verify that the motor is not drawing excessive current, which could be causing overheating. Check the current draw of the motor and ensure it is within the recommended range (\u003c= 10 A). If the current draw is excessive, consider reducing the load or adjusting the motor\u0027s operating conditions.\n",
                                                       "3. **Use current limiting driver circuits**: Implement current limiting driver circuits to prevent excessive current draw and overheating. This is recommended in the datasheet (5. Recommended Operating Practices).\n",
                                                       "4. **Monitor and maintain motor temperature**: Install a temperature sensor to monitor the motor temperature and ensure it does not exceed the recommended operating temperature (70.0°C). Take corrective action if the temperature exceeds this limit.\n",
                                                       "5. **Inspect for brush wear**: Regularly inspect the motor\u0027s brushes for wear and replace them if necessary. Worn-out brushes can cause increased current draw and overheating. (Refer to 5. Recommended Operating Practices)\n",
                                                       "\n",
                                                       "By implementing these measures, you should be able to mitigate or resolve the overheating issue and ensure the RS775-4538 DC motor operates within its recommended specifications.\n"
                                                   ]
                                      }
                                  ]
                  },
                  {
                      "cell_type":  "code",
                      "source":  [
                                     "issue = \"Voltage drop: V=19.6V below 20.0V\"\n",
                                     "print(get_motor_issue_recommendation(issue))"
                                 ],
                      "metadata":  {
                                       "colab":  {
                                                     "base_uri":  "https://localhost:8080/"
                                                 },
                                       "id":  "ZZR584ZFqUy5",
                                       "outputId":  "7be9d60b-c3bb-43e8-a9e4-a676d140b8c8"
                                   },
                      "execution_count":  null,
                      "outputs":  [
                                      {
                                          "output_type":  "stream",
                                          "name":  "stdout",
                                          "text":  [
                                                       "Based on the datasheet and the observed issue, I recommend the following action to resolve or mitigate the voltage drop:\n",
                                                       "\n",
                                                       "**Recommendation:** Increase the input voltage to the motor to ensure it operates within the recommended range of 12-24VDC.\n",
                                                       "\n",
                                                       "**Rationale:**\n",
                                                       "\n",
                                                       "1. The datasheet specifies the rated voltage range as 12-24VDC, and the motor is designed to operate efficiently within this range.\n",
                                                       "2. The observed voltage drop (V=19.6V below 20.0V) indicates that the motor is operating below its rated voltage, which may cause reduced performance, efficiency, and lifespan.\n",
                                                       "3. Increasing the input voltage to the motor will ensure it operates within its designed range, which should mitigate the voltage drop and improve overall performance.\n",
                                                       "\n",
                                                       "**Additional Considerations:**\n",
                                                       "\n",
                                                       "1. Ensure proper mounting and ventilation, as recommended in the datasheet, to prevent overheating and ensure optimal performance.\n",
                                                       "2. Monitor the motor\u0027s current consumption to prevent overcurrent and ensure it does not exceed the rated current (10A).\n",
                                                       "3. Periodically inspect the motor\u0027s brushes for wear and replace them as necessary to maintain optimal performance and prevent premature failure.\n",
                                                       "\n",
                                                       "By following these recommendations, you should be able to resolve the voltage drop issue and ensure the RS775-4538 DC motor operates efficiently and effectively within its designed specifications.\n"
                                                   ]
                                      }
                                  ]
                  },
                  {
                      "cell_type":  "code",
                      "source":  [
                                     "issue = \"Current spike: ΔI=2.20A (I=2.49A)\"\n",
                                     "print(get_motor_issue_recommendation(issue))"
                                 ],
                      "metadata":  {
                                       "colab":  {
                                                     "base_uri":  "https://localhost:8080/"
                                                 },
                                       "id":  "X6vqPTOUqoqX",
                                       "outputId":  "13fc9aa9-52bd-42b9-c39f-7c7b8f8b6aba"
                                   },
                      "execution_count":  null,
                      "outputs":  [
                                      {
                                          "output_type":  "stream",
                                          "name":  "stdout",
                                          "text":  [
                                                       "Based on the datasheet and the observed issue, I recommend the following action to resolve or mitigate the current spike:\n",
                                                       "\n",
                                                       "**Recommendation:** Implement a current limiting driver circuit to regulate the motor current and prevent excessive current spikes.\n",
                                                       "\n",
                                                       "**Rationale:**\n",
                                                       "\n",
                                                       "1. The datasheet recommends using current limiting driver circuits (Section 5, Recommended Operating Practices). This suggests that the manufacturer has identified current limiting as a critical aspect of motor operation.\n",
                                                       "2. The observed current spike (ΔI=2.20A, I=2.49A) exceeds the rated current (10 A) and stall current (~80 A) specified in the datasheet. This indicates that the motor is operating outside its designed specifications, which can lead to premature wear, overheating, or even damage.\n",
                                                       "3. By implementing a current limiting driver circuit, you can ensure that the motor current is regulated and does not exceed the recommended values. This will help prevent excessive current spikes and reduce the risk of motor damage or failure.\n",
                                                       "\n",
                                                       "**Additional Recommendations:**\n",
                                                       "\n",
                                                       "1. Verify that the motor is properly mounted and ventilated to ensure optimal cooling and reduce the risk of overheating.\n",
                                                       "2. Monitor the motor\u0027s performance and adjust the current limiting driver circuit as needed to maintain optimal operation.\n",
                                                       "3. Consider implementing flyback diodes for switching, as recommended in the datasheet, to further reduce the risk of current spikes and motor damage.\n",
                                                       "\n",
                                                       "By following these recommendations, you can help mitigate the current spike issue and ensure the reliable operation of the RS775-4538 DC motor.\n"
                                                   ]
                                      }
                                  ]
                  },
                  {
                      "cell_type":  "code",
                      "source":  [
                                     "issue = \"Efficiency low: 73.9%\"\n",
                                     "print(get_motor_issue_recommendation(issue))"
                                 ],
                      "metadata":  {
                                       "colab":  {
                                                     "base_uri":  "https://localhost:8080/"
                                                 },
                                       "id":  "3dY7PbZ8q2em",
                                       "outputId":  "19733dd0-7c73-4639-eae0-8bd07e29b079"
                                   },
                      "execution_count":  null,
                      "outputs":  [
                                      {
                                          "output_type":  "stream",
                                          "name":  "stdout",
                                          "text":  [
                                                       "Based on the datasheet and the observed issue of low efficiency (73.9%), I recommend the following actions to mitigate or resolve the issue:\n",
                                                       "\n",
                                                       "1. **Verify proper mounting and ventilation**: Ensure that the motor is properly mounted and ventilated to prevent overheating, which can reduce efficiency. Check that the motor is securely fastened to the mounting flange and that there is sufficient clearance around the motor for air to circulate.\n",
                                                       "2. **Check for brush wear**: As recommended in the datasheet, periodically inspect the brushes for wear. Worn-out brushes can reduce efficiency and overall motor performance. If the brushes are worn out, consider replacing them with new ones.\n",
                                                       "3. **Optimize current limiting driver circuits**: The datasheet recommends using current limiting driver circuits. Ensure that the driver circuit is properly configured and calibrated to limit the current to the motor. This can help prevent overcurrent and reduce heat generation, which can improve efficiency.\n",
                                                       "4. **Avoid long stalling and overcurrent**: The datasheet warns against long stalling and overcurrent. Ensure that the motor is not stalled for extended periods and that the current is limited to prevent overheating and damage to the motor.\n",
                                                       "5. **Consider using a heat sink**: If the motor is operating in a high-temperature environment or is experiencing excessive heat generation, consider using a heat sink to dissipate heat away from the motor. This can help improve efficiency and reduce the risk of overheating.\n",
                                                       "\n",
                                                       "By following these recommendations, you should be able to improve the efficiency of the RS775-4538 DC motor and resolve the observed issue.\n"
                                                   ]
                                      }
                                  ]
                  },
                  {
                      "cell_type":  "code",
                      "source":  [
                                     "issue = \"Average power: 56.9 W, Peak power: 104.3 W\"\n",
                                     "print(get_motor_issue_recommendation(issue))\n"
                                 ],
                      "metadata":  {
                                       "id":  "jmCNLeTKrED4",
                                       "outputId":  "99e1e37e-be56-423b-9359-1f0bf64fa2e6",
                                       "colab":  {
                                                     "base_uri":  "https://localhost:8080/"
                                                 }
                                   },
                      "execution_count":  null,
                      "outputs":  [
                                      {
                                          "output_type":  "stream",
                                          "name":  "stdout",
                                          "text":  [
                                                       "Based on the datasheet and the observed issue, I recommend the following:\n",
                                                       "\n",
                                                       "**Issue:** The motor is operating at a higher power level than the rated output power of 150 W, with an average power of 56.9 W and a peak power of 104.3 W.\n",
                                                       "\n",
                                                       "**Recommendation:** To mitigate this issue, I suggest implementing a current limiting driver circuit, as recommended in the datasheet (Section 5, Recommended Operating Practices). This will help prevent overcurrent and reduce the risk of motor damage.\n",
                                                       "\n",
                                                       "Additionally, I recommend monitoring the motor\u0027s temperature and ensuring proper ventilation to prevent overheating. The motor\u0027s efficiency is specified as ~75% (Section 2, Electrical Specifications), which means it may generate more heat than expected. Proper ventilation and temperature monitoring can help prevent overheating and reduce the risk of motor failure.\n",
                                                       "\n",
                                                       "It\u0027s also important to ensure proper mounting and alignment of the motor, as specified in the datasheet (Section 3, Mechanical Specifications). Improper mounting can cause increased vibration and heat generation, which can further exacerbate the issue.\n",
                                                       "\n",
                                                       "By implementing these measures, you should be able to reduce the motor\u0027s power consumption and prevent potential damage or failure.\n"
                                                   ]
                                      }
                                  ]
                  },
                  {
                      "cell_type":  "code",
                      "source":  [

                                 ],
                      "metadata":  {
                                       "id":  "fo26Qffji27R"
                                   },
                      "execution_count":  null,
                      "outputs":  [

                                  ]
                  }
              ]
}
